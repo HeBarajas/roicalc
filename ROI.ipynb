{
 "cells": [
  {
   "cell_type": "code",
   "execution_count": null,
   "id": "1be4cfd2",
   "metadata": {},
   "outputs": [],
   "source": [
    "Here we assume that we have a client coming to us asking for an automated Rental Property Calculator. Our client's name is Brandon from a company called \"Bigger Pockets\". Below, you will find a video of what Brandon usually does to calculate his Rental Property ROI.\n",
    "\n",
    "Using Visual Studio Code/Jupyter Notebook, and Object Oriented Programming create a program that will calculate the Return on Investment(ROI) for a rental property.\n",
    "\n",
    "This project will be completed individually, though you can feel free to share ideas with your fellow students.\n",
    "\n",
    "Once completed, commit the project to github and submit the link to this assignment."
   ]
  },
  {
   "cell_type": "code",
   "execution_count": 22,
   "id": "4122d279",
   "metadata": {},
   "outputs": [
    {
     "name": "stdout",
     "output_type": "stream",
     "text": [
      "what is your Rental Income? 2000\n",
      "what is your Laundry Income? 0\n",
      "what is your Storage Income? 0\n",
      "what is your Misc Income? 0\n",
      "--------------------------------------------------\n",
      " Your total monthly income is 2000\n",
      "--------------------------------------------------\n",
      "what is your monthly taxes expenses? 150\n",
      "what is your monthly insurance expense? 100\n",
      "what is your monthly water expense? 0\n",
      "what is your monthly garbage expense? 0\n",
      "what is your monthly electric expense? 0\n",
      "what is your monthly gas expense? 0\n",
      "what is your monthly hoa expense? 0\n",
      "what is your monthly lawn and snow care expense? 0\n",
      "what is your monthly vacancy expense?100\n",
      "what is your monthly repairs expense?100\n",
      "what is your monthly capex expense? 100\n",
      "what is your monthly property management expense? 200\n",
      "what is your monthly mortage expense? 860\n",
      "Your total monthly expenses is 1610 \n",
      "--------------------------------------------------\n",
      "your total yearly cashflow is 4680\n",
      "--------------------------------------------------\n",
      "what is your total downpayment? 40000\n",
      "what is the total closing cost? 3000\n",
      "what is your rehab budget? 7000\n",
      "Any Misc. cost? 0\n",
      "--------------------------------------------------\n",
      "Your Cash on Cash ROI is 9.36%\n",
      "--------------------------------------------------\n"
     ]
    }
   ],
   "source": [
    "class rental_roi:\n",
    "    def __init__(self, tincome = 0, texpense = 0, ta_cashflow = 0, tccr = 0):\n",
    "        self.tincome = tincome\n",
    "        self.texpense = texpense\n",
    "        self.ta_cashflow = ta_cashflow\n",
    "        self.tccr = tccr\n",
    "\n",
    "    def income(self):\n",
    "        rental = int(input(\"what is your Rental Income? \"))\n",
    "        laundry = int(input(\"what is your Laundry Income? \"))\n",
    "        storage = int(input(\"what is your Storage Income? \"))\n",
    "        misc_in = int(input(\"what is your Misc Income? \"))\n",
    "        self.tincome = rental + laundry + storage + misc_in\n",
    "        print(\"-\"*50)\n",
    "        print(f\" Your total monthly income is {self.tincome}\")\n",
    "        print(\"-\"*50)\n",
    "\n",
    "    def m_expense(self):\n",
    "        taxes = int(input(\"what is your monthly taxes expenses? \"))\n",
    "        insurance = int(input(\"what is your monthly insurance expense? \"))\n",
    "        water_sewer = int(input(\"what is your monthly water expense? \"))\n",
    "        garbage = int(input(\"what is your monthly garbage expense? \"))\n",
    "        electric = int(input(\"what is your monthly electric expense? \"))\n",
    "        gas = int(input(\"what is your monthly gas expense? \"))\n",
    "        hoa = int(input(\"what is your monthly hoa expense? \"))\n",
    "        lawn_snow = int(input(\"what is your monthly lawn and snow care expense? \"))\n",
    "        vacancy = int(input(\"what is your monthly vacancy expense?\"))\n",
    "        repairs = int(input(\"what is your monthly repairs expense?\"))\n",
    "        capex = int(input(\"what is your monthly capex expense? \"))\n",
    "        property_management = int(input(\"what is your monthly property management expense? \"))\n",
    "        mortage = int(input(\"what is your monthly mortage expense? \"))\n",
    "        self.texpense = taxes + insurance + water_sewer + garbage + electric + gas + hoa + lawn_snow + vacancy + repairs + capex + property_management + mortage\n",
    "        print(f\"Your total monthly expenses is {self.texpense} \")\n",
    "    def a_cashflow(self):\n",
    "        self.ta_cashflow = (self.tincome*12) - (self.texpense*12)\n",
    "        print(\"-\"*50)\n",
    "        print(f\"your total yearly cashflow is {self.ta_cashflow}\")\n",
    "        print(\"-\"*50)\n",
    "\n",
    "    def ccr(self):\n",
    "        downpayment = int(input(\"what is your total downpayment? \"))\n",
    "        closing_cost = int(input(\"what is the total closing cost? \"))\n",
    "        rehab_budget = int(input(\"what is your rehab budget? \"))\n",
    "        misc_ccr = int(input(\"Any Misc. cost? \"))\n",
    "        investment = downpayment + closing_cost + rehab_budget + misc_ccr\n",
    "        self.tccr = (self.ta_cashflow / investment)*100\n",
    "        print(\"-\"*50)\n",
    "        print(f\"Your Cash on Cash ROI is {self.tccr:.2f}%\")\n",
    "        print(\"-\"*50)\n",
    "\n",
    "def roi():\n",
    "    roi = rental_roi()\n",
    "    roi.income()\n",
    "    roi.m_expense()\n",
    "    roi.a_cashflow()\n",
    "    roi.ccr()\n",
    "roi()"
   ]
  },
  {
   "cell_type": "code",
   "execution_count": null,
   "id": "b501f9f4",
   "metadata": {},
   "outputs": [],
   "source": [
    "\n"
   ]
  },
  {
   "cell_type": "code",
   "execution_count": 14,
   "id": "73de8778",
   "metadata": {},
   "outputs": [],
   "source": []
  },
  {
   "cell_type": "code",
   "execution_count": 17,
   "id": "a98a8cbc",
   "metadata": {},
   "outputs": [],
   "source": []
  },
  {
   "cell_type": "code",
   "execution_count": null,
   "id": "b7efd48a",
   "metadata": {},
   "outputs": [],
   "source": []
  }
 ],
 "metadata": {
  "kernelspec": {
   "display_name": "Python 3",
   "language": "python",
   "name": "python3"
  },
  "language_info": {
   "codemirror_mode": {
    "name": "ipython",
    "version": 3
   },
   "file_extension": ".py",
   "mimetype": "text/x-python",
   "name": "python",
   "nbconvert_exporter": "python",
   "pygments_lexer": "ipython3",
   "version": "3.8.8"
  }
 },
 "nbformat": 4,
 "nbformat_minor": 5
}
